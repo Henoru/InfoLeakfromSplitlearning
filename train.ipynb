{
 "cells": [
  {
   "cell_type": "code",
   "execution_count": 30,
   "metadata": {},
   "outputs": [],
   "source": [
    "import numpy as np\n",
    "import pandas as pd\n",
    "import torch\n",
    "import torch.nn as nn\n",
    "from torch.utils.data import DataLoader,TensorDataset\n",
    "from cnn_model import Model\n",
    "from sklearn.metrics import roc_auc_score\n",
    "import datetime\n",
    "import matplotlib.pyplot as plt"
   ]
  },
  {
   "cell_type": "code",
   "execution_count": 8,
   "metadata": {},
   "outputs": [],
   "source": [
    "# 数据载入与处理\n",
    "fea_col=np.load(\"data/fea_col.npy\",allow_pickle=True)\n",
    "train=pd.read_csv('data/train_set.csv')\n",
    "test=pd.read_csv('data/val_set.csv')\n",
    "train=(train.drop(columns='Label').values,train['Label'].values)\n",
    "test=(test.drop(columns='Label').values,test['Label'].values)\n",
    "train_set=TensorDataset(torch.tensor(train[0]).float(),torch.tensor(train[1]))\n",
    "test_set=TensorDataset(torch.tensor(test[0]).float(),torch.tensor(test[1]))"
   ]
  },
  {
   "cell_type": "code",
   "execution_count": 9,
   "metadata": {},
   "outputs": [],
   "source": [
    "# 超参数\n",
    "device = torch.device('cuda') if torch.cuda.is_available() else torch.device('cpu')\n",
    "batch_size=64\n",
    "epoths=100\n",
    "lr_rate=0.01\n",
    "label_leaking_rate=0.1"
   ]
  },
  {
   "cell_type": "code",
   "execution_count": 27,
   "metadata": {},
   "outputs": [],
   "source": [
    "# dataloader\n",
    "trainloader=DataLoader(train_set,batch_size=batch_size,shuffle=True)\n",
    "testloader =DataLoader(test_set ,batch_size=batch_size,shuffle=True)\n",
    "# Model loader\n",
    "M=Model(fea_col,gpu=torch.cuda.is_available())\n",
    "try:\n",
    "    M.load_state_dict(\"models/M.pth\")\n",
    "except:\n",
    "    pass\n"
   ]
  },
  {
   "cell_type": "code",
   "execution_count": 29,
   "metadata": {},
   "outputs": [],
   "source": [
    "# 训练的准备捏\n",
    "history={'epoth':[],'loss':[],'test loss':[],'auc':[],'test auc':[]}\n",
    "opt=torch.optim.Adam(M.parameters(),lr_rate)\n",
    "loss_func=nn.BCELoss()"
   ]
  },
  {
   "cell_type": "code",
   "execution_count": 17,
   "metadata": {},
   "outputs": [
    {
     "name": "stdout",
     "output_type": "stream",
     "text": [
      "2022-10-20 16:44:44\n"
     ]
    }
   ],
   "source": [
    "time=lambda :datetime.datetime.now().strftime('%Y-%m-%d %H:%M:%S')\n",
    "print('start time:{}'.format(time()))\n",
    "for i in range(epoths):\n",
    "    M.train()\n",
    "    loss_sum=0.0\n",
    "    auc_sum=0.0\n",
    "    for step,(input,labels) in enumerate(trainloader,1):\n",
    "        # 梯度清零\n",
    "        opt.zero_grad()\n",
    "        \n",
    "        # 正向传播\n",
    "        output=M(input)\n",
    "        loss=loss_func(output,labels)\n",
    "        auc=roc_auc_score(output,labels)\n",
    "        # 反向传播\n",
    "        loss.backward()\n",
    "        opt.step()\n",
    "    \n",
    "        # 统计\n",
    "        loss_sum+=loss.item()\n",
    "        auc_sum+=auc.item()\n",
    "    history['epoth'].append(i)\n",
    "    history['loss'].append(loss_sum/step)\n",
    "    history['auc'].append(auc_sum/step)\n",
    "    # 验证阶段\n",
    "    M.eval()\n",
    "    test_loss_sum = 0.0\n",
    "    test_auc_sum = 0.0\n",
    "    for step,(input,labels) in enumerate(testloader,1):\n",
    "        # 正向传播\n",
    "        output=M(input)\n",
    "        loss=loss_func(output,labels)\n",
    "        auc=roc_auc_score(output,labels)\n",
    "\n",
    "        # 统计\n",
    "        test_loss_sum+=loss.item()\n",
    "        test_auc_sum+=auc.item()\n",
    "    history['test loss'].append(test_loss_sum/step)\n",
    "    history['test auc'].append(test_auc_sum/step)\n",
    "    # 打印日志\n",
    "    print(\"Time : \",time())\n",
    "    print(\"Epoth: \",i)\n",
    "    print(\"Loss : \",history['loss'][i])\n",
    "    print(\"AUC  : \",history['auc'][i])\n",
    "    print(\"Test Loss : \",history['test loss'][i])\n",
    "    print(\"Test AUC  : \",history['test auc'][i])\n",
    "    print(\"\")\n",
    "    # 储存模型\n",
    "    torch.save(M.state_dict(),\"models/M.pth\")\n"
   ]
  },
  {
   "cell_type": "code",
   "execution_count": null,
   "metadata": {},
   "outputs": [],
   "source": [
    "def plot_(attri):\n",
    "    train=history[attri]\n",
    "    test= history['test '+attri]\n",
    "    epochs=range(1, len(train) + 1)\n",
    "    plt.plot(epochs,train, 'bo--')\n",
    "    plt.plot(epochs,test , 'ro-')\n",
    "    plt.title('Training and validation '+attri)\n",
    "    plt.xlabel(\"Epochs\")\n",
    "    plt.ylabel(attri)\n",
    "    plt.legend([\"train \"+attri, 'test '+attri])\n",
    "    plt.show()\n",
    "plot_('loss')\n",
    "plot_('auc')"
   ]
  }
 ],
 "metadata": {
  "kernelspec": {
   "display_name": "Python 3.10.6 ('ML')",
   "language": "python",
   "name": "python3"
  },
  "language_info": {
   "codemirror_mode": {
    "name": "ipython",
    "version": 3
   },
   "file_extension": ".py",
   "mimetype": "text/x-python",
   "name": "python",
   "nbconvert_exporter": "python",
   "pygments_lexer": "ipython3",
   "version": "3.10.6"
  },
  "orig_nbformat": 4,
  "vscode": {
   "interpreter": {
    "hash": "1c2811cf0c7581b0d6963ae740e6a1641a465025877be55c3d033c87ca39bc69"
   }
  }
 },
 "nbformat": 4,
 "nbformat_minor": 2
}
