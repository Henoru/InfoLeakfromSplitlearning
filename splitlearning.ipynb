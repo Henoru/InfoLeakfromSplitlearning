{
 "cells": [
  {
   "cell_type": "code",
   "execution_count": 20,
   "metadata": {},
   "outputs": [],
   "source": [
    "import numpy as np\n",
    "import pandas as pd\n",
    "import torch\n",
    "from torch.utils.data import DataLoader"
   ]
  },
  {
   "cell_type": "code",
   "execution_count": 8,
   "metadata": {},
   "outputs": [
    {
     "name": "stdout",
     "output_type": "stream",
     "text": [
      "<class 'pandas.core.frame.DataFrame'>\n",
      "RangeIndex: 458908 entries, 0 to 458907\n",
      "Data columns (total 40 columns):\n",
      " #   Column  Non-Null Count   Dtype  \n",
      "---  ------  --------------   -----  \n",
      " 0   I1      458908 non-null  float64\n",
      " 1   I2      458908 non-null  float64\n",
      " 2   I3      458908 non-null  float64\n",
      " 3   I4      458908 non-null  float64\n",
      " 4   I5      458908 non-null  float64\n",
      " 5   I6      458908 non-null  float64\n",
      " 6   I7      458908 non-null  float64\n",
      " 7   I8      458908 non-null  float64\n",
      " 8   I9      458908 non-null  float64\n",
      " 9   I10     458908 non-null  float64\n",
      " 10  I11     458908 non-null  float64\n",
      " 11  I12     458908 non-null  float64\n",
      " 12  I13     458908 non-null  float64\n",
      " 13  C1      458908 non-null  int64  \n",
      " 14  C2      458908 non-null  int64  \n",
      " 15  C3      458908 non-null  int64  \n",
      " 16  C4      458908 non-null  int64  \n",
      " 17  C5      458908 non-null  int64  \n",
      " 18  C6      458908 non-null  int64  \n",
      " 19  C7      458908 non-null  int64  \n",
      " 20  C8      458908 non-null  int64  \n",
      " 21  C9      458908 non-null  int64  \n",
      " 22  C10     458908 non-null  int64  \n",
      " 23  C11     458908 non-null  int64  \n",
      " 24  C12     458908 non-null  int64  \n",
      " 25  C13     458908 non-null  int64  \n",
      " 26  C14     458908 non-null  int64  \n",
      " 27  C15     458908 non-null  int64  \n",
      " 28  C16     458908 non-null  int64  \n",
      " 29  C17     458908 non-null  int64  \n",
      " 30  C18     458908 non-null  int64  \n",
      " 31  C19     458908 non-null  int64  \n",
      " 32  C20     458908 non-null  int64  \n",
      " 33  C21     458908 non-null  int64  \n",
      " 34  C22     458908 non-null  int64  \n",
      " 35  C23     458908 non-null  int64  \n",
      " 36  C24     458908 non-null  int64  \n",
      " 37  C25     458908 non-null  int64  \n",
      " 38  C26     458908 non-null  int64  \n",
      " 39  Label   458908 non-null  int64  \n",
      "dtypes: float64(13), int64(27)\n",
      "memory usage: 140.0 MB\n",
      "<class 'pandas.core.frame.DataFrame'>\n",
      "RangeIndex: 50990 entries, 0 to 50989\n",
      "Data columns (total 40 columns):\n",
      " #   Column  Non-Null Count  Dtype  \n",
      "---  ------  --------------  -----  \n",
      " 0   I1      50990 non-null  float64\n",
      " 1   I2      50990 non-null  float64\n",
      " 2   I3      50990 non-null  float64\n",
      " 3   I4      50990 non-null  float64\n",
      " 4   I5      50990 non-null  float64\n",
      " 5   I6      50990 non-null  float64\n",
      " 6   I7      50990 non-null  float64\n",
      " 7   I8      50990 non-null  float64\n",
      " 8   I9      50990 non-null  float64\n",
      " 9   I10     50990 non-null  float64\n",
      " 10  I11     50990 non-null  float64\n",
      " 11  I12     50990 non-null  float64\n",
      " 12  I13     50990 non-null  float64\n",
      " 13  C1      50990 non-null  int64  \n",
      " 14  C2      50990 non-null  int64  \n",
      " 15  C3      50990 non-null  int64  \n",
      " 16  C4      50990 non-null  int64  \n",
      " 17  C5      50990 non-null  int64  \n",
      " 18  C6      50990 non-null  int64  \n",
      " 19  C7      50990 non-null  int64  \n",
      " 20  C8      50990 non-null  int64  \n",
      " 21  C9      50990 non-null  int64  \n",
      " 22  C10     50990 non-null  int64  \n",
      " 23  C11     50990 non-null  int64  \n",
      " 24  C12     50990 non-null  int64  \n",
      " 25  C13     50990 non-null  int64  \n",
      " 26  C14     50990 non-null  int64  \n",
      " 27  C15     50990 non-null  int64  \n",
      " 28  C16     50990 non-null  int64  \n",
      " 29  C17     50990 non-null  int64  \n",
      " 30  C18     50990 non-null  int64  \n",
      " 31  C19     50990 non-null  int64  \n",
      " 32  C20     50990 non-null  int64  \n",
      " 33  C21     50990 non-null  int64  \n",
      " 34  C22     50990 non-null  int64  \n",
      " 35  C23     50990 non-null  int64  \n",
      " 36  C24     50990 non-null  int64  \n",
      " 37  C25     50990 non-null  int64  \n",
      " 38  C26     50990 non-null  int64  \n",
      " 39  Label   50990 non-null  int64  \n",
      "dtypes: float64(13), int64(27)\n",
      "memory usage: 15.6 MB\n"
     ]
    }
   ],
   "source": [
    "# 数据载入\n",
    "train_set=pd.read_csv('./data/train_set.csv')\n",
    "train_set.info()\n",
    "test_set=pd.read_csv('./data/val_set.csv')\n",
    "test_set.info()"
   ]
  },
  {
   "cell_type": "code",
   "execution_count": 23,
   "metadata": {},
   "outputs": [],
   "source": [
    "# 超参数\n",
    "device = torch.device('cuda') if torch.cuda.is_available() else torch.device('cpu')\n",
    "batch_size=64\n",
    "epoths=1000\n",
    "lr_rate=0.01\n",
    "label_leaking_rate=0.1\n",
    "\n",
    "# dataloader\n",
    "trainloader = DataLoader(train_set, batch_size=batch_size, shuffle=True)\n"
   ]
  }
 ],
 "metadata": {
  "kernelspec": {
   "display_name": "Python 3.10.6 ('ML')",
   "language": "python",
   "name": "python3"
  },
  "language_info": {
   "codemirror_mode": {
    "name": "ipython",
    "version": 3
   },
   "file_extension": ".py",
   "mimetype": "text/x-python",
   "name": "python",
   "nbconvert_exporter": "python",
   "pygments_lexer": "ipython3",
   "version": "3.10.6"
  },
  "orig_nbformat": 4,
  "vscode": {
   "interpreter": {
    "hash": "93b91b40913edf9ad6fd7e56d81892972140f17f1dd679fdd942728511cc0660"
   }
  }
 },
 "nbformat": 4,
 "nbformat_minor": 2
}
